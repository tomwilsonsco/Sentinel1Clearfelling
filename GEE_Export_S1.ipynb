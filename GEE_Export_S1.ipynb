{
  "nbformat": 4,
  "nbformat_minor": 0,
  "metadata": {
    "colab": {
      "name": "GEE_Export_S1.ipynb",
      "version": "0.3.2",
      "provenance": [],
      "collapsed_sections": [],
      "include_colab_link": true
    },
    "kernelspec": {
      "name": "python3",
      "display_name": "Python 3"
    }
  },
  "cells": [
    {
      "cell_type": "markdown",
      "metadata": {
        "id": "view-in-github",
        "colab_type": "text"
      },
      "source": [
        "<a href=\"https://colab.research.google.com/github/tqmbow/Sentinel1Clearfelling/blob/master/GEE_Export_S1.ipynb\" target=\"_parent\"><img src=\"https://colab.research.google.com/assets/colab-badge.svg\" alt=\"Open In Colab\"/></a>"
      ]
    },
    {
      "metadata": {
        "id": "LrEI6KWMZRb0",
        "colab_type": "text"
      },
      "cell_type": "markdown",
      "source": [
        "## Install GEE and initialise"
      ]
    },
    {
      "metadata": {
        "id": "WG4TMBDNC1EJ",
        "colab_type": "code",
        "outputId": "9ca53b7d-00b1-4659-e861-0c1a5044cb0f",
        "colab": {
          "base_uri": "https://localhost:8080/",
          "height": 551
        }
      },
      "cell_type": "code",
      "source": [
        "! pip install earthengine-api"
      ],
      "execution_count": 0,
      "outputs": [
        {
          "output_type": "stream",
          "text": [
            "Collecting earthengine-api\n",
            "\u001b[?25l  Downloading https://files.pythonhosted.org/packages/90/b7/67426fb376e46cdadbc73d8c4a7c5faa9449d407010fc7691dff2a5fd93d/earthengine-api-0.1.173.tar.gz (115kB)\n",
            "\u001b[K    100% |████████████████████████████████| 122kB 3.8MB/s \n",
            "\u001b[?25hRequirement already satisfied: google-api-python-client in /usr/local/lib/python3.6/dist-packages (from earthengine-api) (1.6.7)\n",
            "Collecting pyOpenSSL>=0.11 (from earthengine-api)\n",
            "\u001b[?25l  Downloading https://files.pythonhosted.org/packages/01/c8/ceb170d81bd3941cbeb9940fc6cc2ef2ca4288d0ca8929ea4db5905d904d/pyOpenSSL-19.0.0-py2.py3-none-any.whl (53kB)\n",
            "\u001b[K    100% |████████████████████████████████| 61kB 22.5MB/s \n",
            "\u001b[?25hRequirement already satisfied: six in /usr/local/lib/python3.6/dist-packages (from earthengine-api) (1.11.0)\n",
            "Requirement already satisfied: uritemplate<4dev,>=3.0.0 in /usr/local/lib/python3.6/dist-packages (from google-api-python-client->earthengine-api) (3.0.0)\n",
            "Requirement already satisfied: oauth2client<5.0.0dev,>=1.5.0 in /usr/local/lib/python3.6/dist-packages (from google-api-python-client->earthengine-api) (4.1.3)\n",
            "Requirement already satisfied: httplib2<1dev,>=0.9.2 in /usr/local/lib/python3.6/dist-packages (from google-api-python-client->earthengine-api) (0.11.3)\n",
            "Collecting cryptography>=2.3 (from pyOpenSSL>=0.11->earthengine-api)\n",
            "\u001b[?25l  Downloading https://files.pythonhosted.org/packages/5b/12/b0409a94dad366d98a8eee2a77678c7a73aafd8c0e4b835abea634ea3896/cryptography-2.6.1-cp34-abi3-manylinux1_x86_64.whl (2.3MB)\n",
            "\u001b[K    100% |████████████████████████████████| 2.3MB 7.7MB/s \n",
            "\u001b[?25hRequirement already satisfied: pyasn1-modules>=0.0.5 in /usr/local/lib/python3.6/dist-packages (from oauth2client<5.0.0dev,>=1.5.0->google-api-python-client->earthengine-api) (0.2.4)\n",
            "Requirement already satisfied: rsa>=3.1.4 in /usr/local/lib/python3.6/dist-packages (from oauth2client<5.0.0dev,>=1.5.0->google-api-python-client->earthengine-api) (4.0)\n",
            "Requirement already satisfied: pyasn1>=0.1.7 in /usr/local/lib/python3.6/dist-packages (from oauth2client<5.0.0dev,>=1.5.0->google-api-python-client->earthengine-api) (0.4.5)\n",
            "Requirement already satisfied: cffi!=1.11.3,>=1.8 in /usr/local/lib/python3.6/dist-packages (from cryptography>=2.3->pyOpenSSL>=0.11->earthengine-api) (1.12.2)\n",
            "Collecting asn1crypto>=0.21.0 (from cryptography>=2.3->pyOpenSSL>=0.11->earthengine-api)\n",
            "\u001b[?25l  Downloading https://files.pythonhosted.org/packages/ea/cd/35485615f45f30a510576f1a56d1e0a7ad7bd8ab5ed7cdc600ef7cd06222/asn1crypto-0.24.0-py2.py3-none-any.whl (101kB)\n",
            "\u001b[K    100% |████████████████████████████████| 102kB 25.0MB/s \n",
            "\u001b[?25hRequirement already satisfied: pycparser in /usr/local/lib/python3.6/dist-packages (from cffi!=1.11.3,>=1.8->cryptography>=2.3->pyOpenSSL>=0.11->earthengine-api) (2.19)\n",
            "Building wheels for collected packages: earthengine-api\n",
            "  Building wheel for earthengine-api (setup.py) ... \u001b[?25ldone\n",
            "\u001b[?25h  Stored in directory: /root/.cache/pip/wheels/23/66/14/73fd4f4385532312ca3d26df889b37339b9330bcf4fd1d8e40\n",
            "Successfully built earthengine-api\n",
            "Installing collected packages: asn1crypto, cryptography, pyOpenSSL, earthengine-api\n",
            "Successfully installed asn1crypto-0.24.0 cryptography-2.6.1 earthengine-api-0.1.173 pyOpenSSL-19.0.0\n"
          ],
          "name": "stdout"
        }
      ]
    },
    {
      "metadata": {
        "id": "DQ4Ea5XsC_GZ",
        "colab_type": "code",
        "outputId": "2242505e-a28d-4972-8de4-dfe83aa31fee",
        "colab": {
          "base_uri": "https://localhost:8080/",
          "height": 202
        }
      },
      "cell_type": "code",
      "source": [
        "! earthengine authenticate"
      ],
      "execution_count": 0,
      "outputs": [
        {
          "output_type": "stream",
          "text": [
            "Opening the following address in a web browser:\n",
            "\n",
            "    https://accounts.google.com/o/oauth2/auth?client_id=517222506229-vsmmajv00ul0bs7p89v5m89qs8eb9359.apps.googleusercontent.com&scope=https%3A%2F%2Fwww.googleapis.com%2Fauth%2Fearthengine+https%3A%2F%2Fwww.googleapis.com%2Fauth%2Fdevstorage.full_control&redirect_uri=urn%3Aietf%3Awg%3Aoauth%3A2.0%3Aoob&response_type=code\n",
            "\n",
            "Please authorize access to your Earth Engine account, and paste the generated code below. If the web browser does not start, please manually browse the URL above.\n",
            "\n",
            "Please enter authorization code: 4/IQFNBRDqeFUMHkuuKHrYsW6_-E8nbSSZecUlG0IQwiN1QXKZxK5Ma2A\n",
            "\n",
            "Successfully saved authorization token.\n"
          ],
          "name": "stdout"
        }
      ]
    },
    {
      "metadata": {
        "id": "82N0jWLDDEco",
        "colab_type": "code",
        "colab": {}
      },
      "cell_type": "code",
      "source": [
        "import ee\n",
        "ee.Initialize()\n",
        "from IPython.display import Image,display"
      ],
      "execution_count": 0,
      "outputs": []
    },
    {
      "metadata": {
        "id": "AQR9-f9rDT6Q",
        "colab_type": "code",
        "colab": {}
      },
      "cell_type": "code",
      "source": [
        "#Import extent\n",
        "extent = ee.FeatureCollection('users/tomw_ee/rsRegion4Scotland')"
      ],
      "execution_count": 0,
      "outputs": []
    },
    {
      "metadata": {
        "id": "Fv1izE1aDZE1",
        "colab_type": "code",
        "colab": {}
      },
      "cell_type": "code",
      "source": [
        "#Import S1 image collection for month in question\n",
        "dateFrom = '2016-05-15'\n",
        "dateTo = '2016-08-15'\n",
        "s1c = ee.ImageCollection('COPERNICUS/S1_GRD_FLOAT').filterBounds(extent).filterDate(dateFrom, dateTo).filter(ee.Filter.eq('transmitterReceiverPolarisation', ['VV', 'VH']))"
      ],
      "execution_count": 0,
      "outputs": []
    },
    {
      "metadata": {
        "id": "oW0F-b08oaBT",
        "colab_type": "code",
        "colab": {}
      },
      "cell_type": "code",
      "source": [
        "def toDB(img):\n",
        "  outimg = img.select(['VV','VH'])\n",
        "  return ee.Image(outimg).log10().multiply(10.0).copyProperties(img)\n",
        "\n",
        "s1c = s1c.select(['VV','VH']).map(toDB)\n"
      ],
      "execution_count": 0,
      "outputs": []
    },
    {
      "metadata": {
        "id": "ac4XoTCUbgnF",
        "colab_type": "code",
        "colab": {}
      },
      "cell_type": "code",
      "source": [
        "#Optional - mask image edges\n",
        "def maskEdge(img):\n",
        "    mask = img.select(0).unitScale(-25, 5).multiply(255).toByte().connectedComponents(ee.Kernel.rectangle(1,1), 100)\n",
        "    return img.updateMask(mask.select(0))\n",
        "s1c = s1c.map(maskEdge)"
      ],
      "execution_count": 0,
      "outputs": []
    },
    {
      "metadata": {
        "id": "akeaLLjxDdzR",
        "colab_type": "code",
        "colab": {}
      },
      "cell_type": "code",
      "source": [
        "#make median composite of monthly values\n",
        "img = s1c.median()"
      ],
      "execution_count": 0,
      "outputs": []
    },
    {
      "metadata": {
        "id": "SaqKkgBaDgvM",
        "colab_type": "code",
        "colab": {}
      },
      "cell_type": "code",
      "source": [
        "#Create Ascending / Descending Composites\n",
        "imgasc = s1c.filter(ee.Filter.eq('orbitProperties_pass', 'ASCENDING')).median().select(['VV', 'VH'],['VVasc','VHasc'])\n",
        "imgdesc = s1c.filter(ee.Filter.eq('orbitProperties_pass', 'DESCENDING')).median().select(['VV', 'VH'],['VVdesc','VHdesc'])"
      ],
      "execution_count": 0,
      "outputs": []
    },
    {
      "metadata": {
        "id": "s5C_RUZEDjbP",
        "colab_type": "code",
        "colab": {}
      },
      "cell_type": "code",
      "source": [
        "#Create ratio bands\n",
        "img = img.addBands(img.select('VV').subtract(img.select('VH')).rename('Ratio'))\n",
        "imgasc = imgasc.addBands(imgasc.select('VVasc').subtract(imgasc.select('VHasc')).rename('Ratioasc'))\n",
        "imgdesc = imgdesc.addBands(imgdesc.select('VVdesc').subtract(imgdesc.select('VHdesc')).rename('Ratiodesc'))"
      ],
      "execution_count": 0,
      "outputs": []
    },
    {
      "metadata": {
        "id": "1aoD6AOVwqK3",
        "colab_type": "code",
        "colab": {}
      },
      "cell_type": "code",
      "source": [
        "#Add Percentiles\n",
        "s10pasc = s1c.filter(ee.Filter.eq('orbitProperties_pass', 'ASCENDING'))\\\n",
        ".reduce(ee.Reducer.percentile([10])).select(['VV_p10','VH_p10'],['VVasc_p10','VHasc_p10'])\n",
        "\n",
        "s10pasc = s10pasc.addBands(s10pasc.select('VVasc_p10').subtract(s10pasc.select('VHasc_p10')).rename('Ratioasc_p10'))\n",
        "\n",
        "s10pdesc = s1c.filter(ee.Filter.eq('orbitProperties_pass', 'DESCENDING'))\\\n",
        ".reduce(ee.Reducer.percentile([10])).select(['VV_p10','VH_p10'],['VVdesc_p10','VHdesc_p10'])\n",
        "\n",
        "s10pdesc = s10pdesc.addBands(s10pdesc.select('VVdesc_p10').subtract(s10pdesc.select('VHdesc_p10')).rename('Ratiodesc_p10'))\n",
        "\n",
        "#######\n",
        "\n",
        "s90pasc = s1c.filter(ee.Filter.eq('orbitProperties_pass', 'ASCENDING'))\\\n",
        ".reduce(ee.Reducer.percentile([90])).select(['VV_p90','VH_p90'],['VVasc_p90','VHasc_p90'])\n",
        "\n",
        "s90pasc = s90pasc.addBands(s90pasc.select('VVasc_p90').subtract(s90pasc.select('VHasc_p90')).rename('Ratioasc_p90'))\n",
        "\n",
        "s90pdesc = s1c.filter(ee.Filter.eq('orbitProperties_pass', 'DESCENDING'))\\\n",
        ".reduce(ee.Reducer.percentile([90])).select(['VV_p90','VH_p90'],['VVdesc_p90','VHdesc_p90'])\n",
        "\n",
        "s90pdesc = s90pdesc.addBands(s90pdesc.select('VVdesc_p90').subtract(s90pdesc.select('VHdesc_p90')).rename('Ratiodesc_p90'))\n"
      ],
      "execution_count": 0,
      "outputs": []
    },
    {
      "metadata": {
        "id": "60r_lQ_30mmf",
        "colab_type": "code",
        "colab": {}
      },
      "cell_type": "code",
      "source": [
        "srtm = ee.Image('USGS/SRTMGL1_003')\n",
        "slope = ee.Terrain.slope(srtm).select('slope')\n",
        "aspect = ee.Terrain.aspect(srtm).select('aspect')"
      ],
      "execution_count": 0,
      "outputs": []
    },
    {
      "metadata": {
        "id": "RF-yupySr1tP",
        "colab_type": "code",
        "outputId": "bf502252-5394-4537-97be-e566bc464aab",
        "colab": {
          "base_uri": "https://localhost:8080/",
          "height": 34
        }
      },
      "cell_type": "code",
      "source": [
        "#Create slope and aspect layers\n",
        "import math\n",
        "\n",
        "#Local incidence angle uses aspect calculated from SRTM\n",
        "im1inc = s1c.filter(ee.Filter.eq('orbitProperties_pass', 'ASCENDING')).first().select('angle')\n",
        "s1_azimuth = ee.Terrain.aspect(im1inc).reduceRegion(ee.Reducer.mean(), im1inc.get('system:footprint'), 1000).get('aspect')\n",
        "slope_projected = slope.multiply(ee.Image.constant(s1_azimuth).subtract(aspect).multiply(math.pi/180).cos())\n",
        "liaAsc = im1inc.subtract(ee.Image.constant(90).subtract(ee.Image.constant(90).subtract(slope_projected))).abs()\n",
        "liaAsc = liaAsc.rename('liaAsc')\n",
        "\n",
        "im2inc = s1c.filter(ee.Filter.eq('orbitProperties_pass', 'DESCENDING')).first().select('angle')\n",
        "s1_azimuth2 = ee.Terrain.aspect(im2inc).reduceRegion(ee.Reducer.mean(), im2inc.get('system:footprint'), 1000).get('aspect')\n",
        "slope_projected2 = slope.multiply(ee.Image.constant(s1_azimuth).subtract(aspect).multiply(math.pi/180).cos())\n",
        "liaDesc = im2inc.subtract(ee.Image.constant(90).subtract(ee.Image.constant(90).subtract(slope_projected))).abs()\n",
        "liaDesc = liaDesc.rename('liaDesc')\n",
        "print(s1_azimuth.getInfo())"
      ],
      "execution_count": 0,
      "outputs": [
        {
          "output_type": "stream",
          "text": [
            "None\n"
          ],
          "name": "stdout"
        }
      ]
    },
    {
      "metadata": {
        "id": "xWayfwB0DsQv",
        "colab_type": "code",
        "colab": {}
      },
      "cell_type": "code",
      "source": [
        "#Add all bands to composite image\n",
        "img = img.addBands(imgdesc).addBands(imgasc).addBands(s10pdesc).addBands(s10pasc).addBands(s90pasc).addBands(s90pdesc)#.addBands(slope).addBands(aspect)"
      ],
      "execution_count": 0,
      "outputs": []
    },
    {
      "metadata": {
        "id": "7hoybiOsDwOM",
        "colab_type": "code",
        "colab": {}
      },
      "cell_type": "code",
      "source": [
        "#Select bands to use\n",
        "img = img.select(['VVdesc','VHdesc','VVasc','VHasc','VVdesc_p10','VHdesc_p10','VVasc_p10','VHasc_p10','VVasc_p90','VHasc_p90','VVdesc_p90','VHdesc_p90'])#['VVdesc_p10','VHdesc_p10','Ratiodesc_p10','VVasc_p10','VHasc_p10','Ratioasc_p10', 'slope','aspect']) \n",
        "                 #['VVasc','VHasc','Ratioasc','liaAsc'])#\n",
        "#img= img.select(['VVdesc','VHdesc','Ratiodesc','VVasc','VHasc','Ratioasc'])\n"
      ],
      "execution_count": 0,
      "outputs": []
    },
    {
      "metadata": {
        "id": "-Zs97W-9HEDx",
        "colab_type": "code",
        "outputId": "ef68cecd-e73d-4ed6-830f-c1b688272a0b",
        "colab": {
          "base_uri": "https://localhost:8080/",
          "height": 372
        }
      },
      "cell_type": "code",
      "source": [
        "#View Image\n",
        "url = img.getThumbUrl({'bands': ['VVdesc','VHdesc','Ratiodesc'], 'min': [-15,-20,0], 'max': [-5,-10,15], 'region':extent.geometry().bounds().getInfo()['coordinates']})\n",
        "Image(url=url)"
      ],
      "execution_count": 0,
      "outputs": [
        {
          "output_type": "execute_result",
          "data": {
            "text/html": [
              "<img src=\"https://earthengine.googleapis.com/api/thumb?thumbid=0f2febe7f2937cf45a9dbde998358bd5&token=06c3d9d5a6a254c28df0efcc19f48570\"/>"
            ],
            "text/plain": [
              "<IPython.core.display.Image object>"
            ]
          },
          "metadata": {
            "tags": []
          },
          "execution_count": 18
        }
      ]
    },
    {
      "metadata": {
        "id": "NB7K11i1EOvQ",
        "colab_type": "code",
        "colab": {}
      },
      "cell_type": "code",
      "source": [
        "def export_image(img, output_file_name):\n",
        "    task=ee.batch.Export.image.toDrive(\n",
        "            image=img,\n",
        "            folder = \"colab_data\",\n",
        "            description = output_file_name,\n",
        "            region = extent.geometry().bounds().getInfo()['coordinates'],\n",
        "            scale= 10,\n",
        "            crs= 'EPSG:27700',\n",
        "            maxPixels =10000000000)\n",
        "    task.start()"
      ],
      "execution_count": 0,
      "outputs": []
    },
    {
      "metadata": {
        "id": "ZNT_33aOEvLS",
        "colab_type": "code",
        "colab": {}
      },
      "cell_type": "code",
      "source": [
        "export_image(img.float(), 'rsRegion4_3month16')"
      ],
      "execution_count": 0,
      "outputs": []
    },
    {
      "metadata": {
        "id": "YYWd7Cv6KPd1",
        "colab_type": "code",
        "colab": {}
      },
      "cell_type": "code",
      "source": [
        "visImg = img.visualize(bands=['VVasc','VHasc','Ratioasc'], min=[-15,-20,0],max=[-5,-10,15])\n",
        "#visImg2 = img.visualize(bands=['VVdesc_p10','VHdesc_p10','Ratiodesc_p10'],min=[-15,-20,0],max=[-5,-10,15])\n",
        "#visImg = visImg.addBands(visImg2)"
      ],
      "execution_count": 0,
      "outputs": []
    },
    {
      "metadata": {
        "id": "VGpQDaK5MR27",
        "colab_type": "code",
        "colab": {}
      },
      "cell_type": "code",
      "source": [
        "export_image(visImg.int8(), 'rsRegion3AscRGB')"
      ],
      "execution_count": 0,
      "outputs": []
    },
    {
      "metadata": {
        "id": "8m9ZuAUrc8K7",
        "colab_type": "code",
        "outputId": "981279d5-2a10-458e-d510-dd5b34429df3",
        "colab": {
          "base_uri": "https://localhost:8080/",
          "height": 164
        }
      },
      "cell_type": "code",
      "source": [
        "!earthengine task list"
      ],
      "execution_count": 0,
      "outputs": [
        {
          "output_type": "stream",
          "text": [
            "NSJ2C4TV3O7MYKS3F7WDPQO4  Export.image  rsRegion4_3month16                          COMPLETED  ---\n",
            "LWBIU4VK2OQ5EQ3OZOQ2AW5O  Export.image  rsRegion4_3month16                          COMPLETED  ---\n",
            "EXOJVLWNYPI5MPZBOJXAC5AE  Export.image  rsRegion4_3month16                          COMPLETED  ---\n",
            "OHS3ZNU3UVPQMKR473SE63R5  Export.image  rsRegion4_3month                            COMPLETED  ---\n",
            "IEUW7GCWS4HV3NEQX6WTRQCT  Export.image  rsRegion4_3monthAllPercentile               COMPLETED  ---\n",
            "QJWIJCUGLJ4PJFNTUU5ECP2R  Upload        Asset ingestion: users/tomw_ee/RSRegion4..  COMPLETED  ---\n",
            "JITDTODGVIZP6BV5KZ2SGZ5Z  Export.image  rsRegion2_3monthAllPercentile               COMPLETED  ---\n",
            "Y56MF7YMDH5D2S6BFVLEBIPA  Export.image  rsRegion2_3monthAllPercentile               COMPLETED  ---\n"
          ],
          "name": "stdout"
        }
      ]
    }
  ]
}