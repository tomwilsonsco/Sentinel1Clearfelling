{
  "nbformat": 4,
  "nbformat_minor": 0,
  "metadata": {
    "colab": {
      "name": "S1ClassifiersSciKit",
      "version": "0.3.2",
      "provenance": [],
      "collapsed_sections": [],
      "include_colab_link": true
    },
    "kernelspec": {
      "name": "python3",
      "display_name": "Python 3"
    },
    "accelerator": "GPU"
  },
  "cells": [
    {
      "cell_type": "markdown",
      "metadata": {
        "id": "view-in-github",
        "colab_type": "text"
      },
      "source": [
        "<a href=\"https://colab.research.google.com/github/tqmbow/Sentinel1Clearfelling/blob/master/S1ClassifiersSciKit.ipynb\" target=\"_parent\"><img src=\"https://colab.research.google.com/assets/colab-badge.svg\" alt=\"Open In Colab\"/></a>"
      ]
    },
    {
      "metadata": {
        "id": "pXQmyLWNGQFy",
        "colab_type": "code",
        "colab": {}
      },
      "cell_type": "code",
      "source": [
        "import pandas as pd\n",
        "import numpy as np\n",
        "import matplotlib.pyplot as plt\n",
        "import os\n",
        "from sklearn.model_selection import train_test_split"
      ],
      "execution_count": 0,
      "outputs": []
    },
    {
      "metadata": {
        "id": "W-xmevhPGe3C",
        "colab_type": "code",
        "outputId": "ece5fcf6-2616-4ddb-8a6b-e1ba8afefc4f",
        "colab": {
          "base_uri": "https://localhost:8080/",
          "height": 605
        }
      },
      "cell_type": "code",
      "source": [
        "! pip install geopandas\n",
        "! pip install descartes\n",
        "! pip install rasterio"
      ],
      "execution_count": 0,
      "outputs": [
        {
          "output_type": "stream",
          "text": [
            "Requirement already satisfied: geopandas in /usr/local/lib/python3.6/dist-packages (0.4.1)\n",
            "Requirement already satisfied: shapely in /usr/local/lib/python3.6/dist-packages (from geopandas) (1.6.4.post2)\n",
            "Requirement already satisfied: pyproj in /usr/local/lib/python3.6/dist-packages (from geopandas) (2.1.2)\n",
            "Requirement already satisfied: pandas in /usr/local/lib/python3.6/dist-packages (from geopandas) (0.22.0)\n",
            "Requirement already satisfied: fiona in /usr/local/lib/python3.6/dist-packages (from geopandas) (1.8.6)\n",
            "Requirement already satisfied: python-dateutil>=2 in /usr/local/lib/python3.6/dist-packages (from pandas->geopandas) (2.5.3)\n",
            "Requirement already satisfied: pytz>=2011k in /usr/local/lib/python3.6/dist-packages (from pandas->geopandas) (2018.9)\n",
            "Requirement already satisfied: numpy>=1.9.0 in /usr/local/lib/python3.6/dist-packages (from pandas->geopandas) (1.14.6)\n",
            "Requirement already satisfied: click<8,>=4.0 in /usr/local/lib/python3.6/dist-packages (from fiona->geopandas) (7.0)\n",
            "Requirement already satisfied: cligj>=0.5 in /usr/local/lib/python3.6/dist-packages (from fiona->geopandas) (0.5.0)\n",
            "Requirement already satisfied: click-plugins>=1.0 in /usr/local/lib/python3.6/dist-packages (from fiona->geopandas) (1.0.4)\n",
            "Requirement already satisfied: attrs>=17 in /usr/local/lib/python3.6/dist-packages (from fiona->geopandas) (19.1.0)\n",
            "Requirement already satisfied: six>=1.7 in /usr/local/lib/python3.6/dist-packages (from fiona->geopandas) (1.11.0)\n",
            "Requirement already satisfied: munch in /usr/local/lib/python3.6/dist-packages (from fiona->geopandas) (2.3.2)\n",
            "Requirement already satisfied: descartes in /usr/local/lib/python3.6/dist-packages (1.1.0)\n",
            "Requirement already satisfied: matplotlib in /usr/local/lib/python3.6/dist-packages (from descartes) (3.0.3)\n",
            "Requirement already satisfied: kiwisolver>=1.0.1 in /usr/local/lib/python3.6/dist-packages (from matplotlib->descartes) (1.0.1)\n",
            "Requirement already satisfied: python-dateutil>=2.1 in /usr/local/lib/python3.6/dist-packages (from matplotlib->descartes) (2.5.3)\n",
            "Requirement already satisfied: pyparsing!=2.0.4,!=2.1.2,!=2.1.6,>=2.0.1 in /usr/local/lib/python3.6/dist-packages (from matplotlib->descartes) (2.3.1)\n",
            "Requirement already satisfied: numpy>=1.10.0 in /usr/local/lib/python3.6/dist-packages (from matplotlib->descartes) (1.14.6)\n",
            "Requirement already satisfied: cycler>=0.10 in /usr/local/lib/python3.6/dist-packages (from matplotlib->descartes) (0.10.0)\n",
            "Requirement already satisfied: setuptools in /usr/local/lib/python3.6/dist-packages (from kiwisolver>=1.0.1->matplotlib->descartes) (40.8.0)\n",
            "Requirement already satisfied: six>=1.5 in /usr/local/lib/python3.6/dist-packages (from python-dateutil>=2.1->matplotlib->descartes) (1.11.0)\n",
            "Requirement already satisfied: rasterio in /usr/local/lib/python3.6/dist-packages (1.0.22)\n",
            "Requirement already satisfied: attrs in /usr/local/lib/python3.6/dist-packages (from rasterio) (19.1.0)\n",
            "Requirement already satisfied: click-plugins in /usr/local/lib/python3.6/dist-packages (from rasterio) (1.0.4)\n",
            "Requirement already satisfied: click<8,>=4.0 in /usr/local/lib/python3.6/dist-packages (from rasterio) (7.0)\n",
            "Requirement already satisfied: affine in /usr/local/lib/python3.6/dist-packages (from rasterio) (2.2.2)\n",
            "Requirement already satisfied: numpy in /usr/local/lib/python3.6/dist-packages (from rasterio) (1.14.6)\n",
            "Requirement already satisfied: cligj>=0.5 in /usr/local/lib/python3.6/dist-packages (from rasterio) (0.5.0)\n",
            "Requirement already satisfied: snuggs>=1.4.1 in /usr/local/lib/python3.6/dist-packages (from rasterio) (1.4.3)\n",
            "Requirement already satisfied: pyparsing in /usr/local/lib/python3.6/dist-packages (from snuggs>=1.4.1->rasterio) (2.3.1)\n"
          ],
          "name": "stdout"
        }
      ]
    },
    {
      "metadata": {
        "id": "WXxkmI0EG11D",
        "colab_type": "code",
        "colab": {}
      },
      "cell_type": "code",
      "source": [
        "import geopandas as gpd\n",
        "import descartes\n",
        "import rasterio\n",
        "from rasterio.mask import mask\n",
        "from rasterio.features import geometry_mask\n",
        "from shapely.geometry import mapping"
      ],
      "execution_count": 0,
      "outputs": []
    },
    {
      "metadata": {
        "id": "3_B4rfYOHBED",
        "colab_type": "code",
        "outputId": "a9d63b44-3aa4-4ffd-f9e4-04762f4052b3",
        "colab": {
          "base_uri": "https://localhost:8080/",
          "height": 35
        }
      },
      "cell_type": "code",
      "source": [
        "from google.colab import drive\n",
        "drive.mount('/content/drive/', force_remount=True)"
      ],
      "execution_count": 0,
      "outputs": [
        {
          "output_type": "stream",
          "text": [
            "Mounted at /content/drive/\n"
          ],
          "name": "stdout"
        }
      ]
    },
    {
      "metadata": {
        "id": "6Uv2rBbQhYhF",
        "colab_type": "text"
      },
      "cell_type": "markdown",
      "source": [
        "##Set Study Region"
      ]
    },
    {
      "metadata": {
        "id": "EOf9khQCMO1g",
        "colab_type": "code",
        "colab": {}
      },
      "cell_type": "code",
      "source": [
        "region = 'ScotlandRSRegion4'\n",
        "wd= '/content/drive/My Drive/colab_data/{}'.format(region)"
      ],
      "execution_count": 0,
      "outputs": []
    },
    {
      "metadata": {
        "id": "P6X-cmyTWUtk",
        "colab_type": "text"
      },
      "cell_type": "markdown",
      "source": [
        "Buffer polygons by -10 to remove edge pixels; split into training and testing"
      ]
    },
    {
      "metadata": {
        "id": "E39aJmzBOnn4",
        "colab_type": "code",
        "outputId": "05052cd3-cb5f-4d8f-8878-1ea10b2959eb",
        "colab": {
          "base_uri": "https://localhost:8080/",
          "height": 127
        }
      },
      "cell_type": "code",
      "source": [
        "#extent = gpd.read_file(os.path.join(wd, '{}_extent.shp'.format(region)))\n",
        "felled = gpd.read_file(os.path.join(wd, '{}_felled.shp'.format(region)))\n",
        "mature = gpd.read_file(os.path.join(wd, '{}_mature.shp'.format(region)))\n",
        "\n",
        "print(\"mature:\", mature[\"geometry\"].area.sum()/10000, \"ha\")\n",
        "print(\"felled:\", felled[\"geometry\"].area.sum()/10000, \"ha\")\n",
        "\n",
        "#Buffer -10 and save output\n",
        "mature[\"geometry\"] = mature.geometry.buffer(-10)\n",
        "felled[\"geometry\"] = felled.geometry.buffer(-10)\n",
        "mature = mature.explode()\n",
        "felled = felled.explode()\n",
        "\n",
        "print(\"mature buffered:\", mature[\"geometry\"].area.sum()/10000, \"ha\")\n",
        "print(\"felled buffered:\", felled[\"geometry\"].area.sum()/10000, \"ha\")\n",
        "\n",
        "mature = mature[mature[\"geometry\"].area >=1000]\n",
        "felled = felled[felled[\"geometry\"].area >= 1000]\n",
        "\n",
        "trainFelled, testFelled = train_test_split(felled, test_size=0.2, random_state = 999)\n",
        "trainMature, testMature = train_test_split(mature, test_size = 0.2, random_state =999)\n",
        "#matureBuffer = [f for f in matureBuffer.geometry.values if f.area > 1000]\n",
        "#felledBuffer = [f for f in felledBuffer.geometry.values if f.area > 1000]\n",
        "print(trainFelled.shape)\n",
        "print(testFelled.shape)\n"
      ],
      "execution_count": 0,
      "outputs": [
        {
          "output_type": "stream",
          "text": [
            "mature: 9770.950109324482 ha\n",
            "felled: 2601.968319982719 ha\n",
            "mature buffered: 8165.301212508738 ha\n",
            "felled buffered: 2129.4909402684143 ha\n",
            "(284, 4)\n",
            "(72, 4)\n"
          ],
          "name": "stdout"
        }
      ]
    },
    {
      "metadata": {
        "id": "vE2Bhqm5WN6_",
        "colab_type": "text"
      },
      "cell_type": "markdown",
      "source": [
        "Read the S1 Image"
      ]
    },
    {
      "metadata": {
        "id": "9yN58WX8V6PX",
        "colab_type": "text"
      },
      "cell_type": "markdown",
      "source": [
        "Extract pixels within polygons to build training and testing features"
      ]
    },
    {
      "metadata": {
        "id": "XGIn6riXPT-d",
        "colab_type": "code",
        "outputId": "27b39f49-35ae-412b-dc29-0becd1b8931f",
        "colab": {
          "base_uri": "https://localhost:8080/",
          "height": 35
        }
      },
      "cell_type": "code",
      "source": [
        "#Read image\n",
        "s1 = rasterio.open(os.path.join(wd,'rsRegion4_3month16BALLs.tif'))\n",
        "\n",
        "#Print number of bands\n",
        "B = s1.count\n",
        "print(B)\n",
        "s1prof = s1.profile.copy()"
      ],
      "execution_count": 0,
      "outputs": [
        {
          "output_type": "stream",
          "text": [
            "12\n"
          ],
          "name": "stdout"
        }
      ]
    },
    {
      "metadata": {
        "id": "XzwZ8W31gC0u",
        "colab_type": "code",
        "outputId": "098234af-771c-49dd-ad3e-15f4b1e153d4",
        "colab": {
          "base_uri": "https://localhost:8080/",
          "height": 1578
        }
      },
      "cell_type": "code",
      "source": [
        "s1.read()"
      ],
      "execution_count": 0,
      "outputs": [
        {
          "output_type": "execute_result",
          "data": {
            "text/plain": [
              "array([[[        nan,  -6.7598996,  -8.562072 , ...,  -8.2013235,\n",
              "          -9.046654 , -10.582595 ],\n",
              "        [ -7.6428266,  -9.736197 , -10.241104 , ...,  -8.867673 ,\n",
              "         -10.377863 , -11.258421 ],\n",
              "        [ -9.816462 ,  -9.809568 , -10.371953 , ...,  -9.205761 ,\n",
              "         -10.807577 , -11.7656555],\n",
              "        ...,\n",
              "        [-17.474506 , -17.014412 , -15.526152 , ..., -12.128495 ,\n",
              "         -10.86965  , -11.094606 ],\n",
              "        [-17.284782 , -17.075914 , -15.361743 , ..., -11.948948 ,\n",
              "         -10.784105 , -11.632518 ],\n",
              "        [-16.695944 , -17.253906 , -16.103554 , ..., -11.452044 ,\n",
              "         -11.53695  , -12.456648 ]],\n",
              "\n",
              "       [[        nan, -15.8581705, -16.916975 , ..., -18.37664  ,\n",
              "         -18.903446 , -18.596397 ],\n",
              "        [-16.936644 , -17.98128  , -19.104717 , ..., -17.154308 ,\n",
              "         -18.981857 , -20.271921 ],\n",
              "        [-17.03609  , -17.795042 , -17.771828 , ..., -16.973566 ,\n",
              "         -17.307741 , -18.524313 ],\n",
              "        ...,\n",
              "        [-22.545631 , -22.56948  , -21.306974 , ..., -19.567106 ,\n",
              "         -19.780615 , -21.1174   ],\n",
              "        [-21.689875 , -21.335083 , -22.808289 , ..., -19.74746  ,\n",
              "         -21.422667 , -20.599089 ],\n",
              "        [-21.608498 , -21.705887 , -22.00294  , ..., -19.91636  ,\n",
              "         -19.92185  , -18.488033 ]],\n",
              "\n",
              "       [[        nan, -13.848874 , -13.832466 , ..., -12.298755 ,\n",
              "         -13.755272 , -14.143151 ],\n",
              "        [-14.600897 , -13.51658  , -13.678706 , ..., -13.804995 ,\n",
              "         -13.61386  , -14.041475 ],\n",
              "        [-13.891794 , -13.275173 , -13.98449  , ..., -13.849788 ,\n",
              "         -14.011633 , -15.016393 ],\n",
              "        ...,\n",
              "        [ -9.438474 , -10.365939 , -10.590038 , ..., -13.662113 ,\n",
              "         -12.787276 , -12.605657 ],\n",
              "        [ -9.15907  ,  -9.554471 , -10.539188 , ..., -13.6954775,\n",
              "         -13.75943  , -12.7768135],\n",
              "        [ -9.924943 ,  -9.67929  ,  -9.663629 , ..., -13.358773 ,\n",
              "         -12.995503 , -12.544971 ]],\n",
              "\n",
              "       ...,\n",
              "\n",
              "       [[        nan, -17.19398  , -16.878138 , ..., -17.171383 ,\n",
              "         -18.446884 , -18.242405 ],\n",
              "        [-18.502201 , -18.216875 , -15.423592 , ..., -17.320599 ,\n",
              "         -18.35109  , -18.125664 ],\n",
              "        [-17.091013 , -18.579636 , -16.497433 , ..., -16.139738 ,\n",
              "         -17.47226  , -18.053904 ],\n",
              "        ...,\n",
              "        [-14.717642 , -15.209606 , -15.63284  , ..., -15.858274 ,\n",
              "         -15.598336 , -16.085978 ],\n",
              "        [-13.816177 , -13.630683 , -14.5194   , ..., -16.62911  ,\n",
              "         -16.273201 , -16.300766 ],\n",
              "        [-15.421197 , -14.338838 , -14.864438 , ..., -16.108742 ,\n",
              "         -17.563946 , -18.103853 ]],\n",
              "\n",
              "       [[        nan,  -5.7985997,  -7.543651 , ...,  -5.889133 ,\n",
              "          -7.9163857,  -9.408637 ],\n",
              "        [ -5.6878066,  -7.9521904,  -8.207092 , ...,  -6.32109  ,\n",
              "          -7.9004993,  -9.405635 ],\n",
              "        [ -8.78008  ,  -8.764978 ,  -6.7091527, ...,  -6.5928884,\n",
              "          -7.757525 ,  -9.406638 ],\n",
              "        ...,\n",
              "        [-16.277191 , -14.998613 , -13.449202 , ..., -10.210158 ,\n",
              "          -8.893817 ,  -8.79711  ],\n",
              "        [-16.453562 , -14.697015 , -14.261734 , ...,  -9.62317  ,\n",
              "          -9.03886  ,  -9.333487 ],\n",
              "        [-15.337239 , -13.379172 , -13.734178 , ...,  -9.824948 ,\n",
              "          -9.033874 , -10.120382 ]],\n",
              "\n",
              "       [[        nan, -14.809454 , -14.418801 , ..., -15.576241 ,\n",
              "         -15.155697 , -14.857793 ],\n",
              "        [-15.607308 , -15.204948 , -14.462139 , ..., -15.606088 ,\n",
              "         -15.744225 , -16.225424 ],\n",
              "        [-16.673393 , -15.90961  , -14.301722 , ..., -15.036185 ,\n",
              "         -16.119114 , -16.262157 ],\n",
              "        ...,\n",
              "        [-21.039534 , -19.228687 , -20.018589 , ..., -16.86898  ,\n",
              "         -17.042944 , -18.026451 ],\n",
              "        [-18.421036 , -18.151436 , -19.736622 , ..., -17.605955 ,\n",
              "         -18.491934 , -18.439703 ],\n",
              "        [-18.537172 , -19.320086 , -18.430513 , ..., -18.277042 ,\n",
              "         -18.378572 , -17.541346 ]]], dtype=float32)"
            ]
          },
          "metadata": {
            "tags": []
          },
          "execution_count": 122
        }
      ]
    },
    {
      "metadata": {
        "id": "LfTjHpo4WfPC",
        "colab_type": "code",
        "colab": {}
      },
      "cell_type": "code",
      "source": [
        "def getPixels(image, poly, target):\n",
        "    global B\n",
        "    shape=[mapping(poly)]\n",
        "    outImage, out_transform = mask(image, shape, crop=True, nodata=999) \n",
        "    outList = outImage.reshape((B, -1)).T\n",
        "    return np.append(target, outList, axis=0)\n",
        "\n",
        "\n",
        "def extractAllPolys(image, features):\n",
        "    global B\n",
        "    flatten = np.array([]).reshape(0,B)\n",
        "    for f in features:\n",
        "        if f.area > 0:\n",
        "            flatten = getPixels(image,f, flatten)\n",
        "    flattenArr = np.ma.masked_array(flatten, mask=(flatten == 999))\n",
        "    return pd.DataFrame(flattenArr).dropna()\n",
        "      "
      ],
      "execution_count": 0,
      "outputs": []
    },
    {
      "metadata": {
        "id": "PUAPjUMWrl79",
        "colab_type": "code",
        "outputId": "788c21ad-87c0-4ce2-c419-d6efc6fdf0ec",
        "colab": {
          "base_uri": "https://localhost:8080/",
          "height": 90
        }
      },
      "cell_type": "code",
      "source": [
        "trainFelledF = extractAllPolys(s1,trainFelled.geometry.values)\n",
        "testFelledF = extractAllPolys(s1,testFelled.geometry.values)\n",
        "print(\"train felled size\", trainFelledF.shape)\n",
        "print(\"test felled size\", testFelledF.shape)\n",
        "trainMatureF = extractAllPolys(s1,trainMature.geometry.values)\n",
        "testMatureF = extractAllPolys(s1,testMature.geometry.values)\n",
        "print(\"train mature size\", trainMatureF.shape)\n",
        "print(\"test mature size\", testMatureF.shape)"
      ],
      "execution_count": 0,
      "outputs": [
        {
          "output_type": "stream",
          "text": [
            "train felled size (175084, 12)\n",
            "test felled size (37544, 12)\n",
            "train mature size (682657, 12)\n",
            "test mature size (131994, 12)\n"
          ],
          "name": "stdout"
        }
      ]
    },
    {
      "metadata": {
        "id": "63axndHRnjLk",
        "colab_type": "code",
        "outputId": "0dd86fbd-cd46-4dbb-a40e-7f1eb0e73c72",
        "colab": {
          "base_uri": "https://localhost:8080/",
          "height": 54
        }
      },
      "cell_type": "code",
      "source": [
        "trainMatureF = trainMatureF.sample(trainFelledF.shape[0])\n",
        "testMatureF = testMatureF.sample(testFelledF.shape[0])\n",
        "print(trainMatureF.shape)\n",
        "print(testMatureF.shape)"
      ],
      "execution_count": 0,
      "outputs": [
        {
          "output_type": "stream",
          "text": [
            "(175084, 12)\n",
            "(37544, 12)\n"
          ],
          "name": "stdout"
        }
      ]
    },
    {
      "metadata": {
        "id": "FhUgPxKVWR5W",
        "colab_type": "code",
        "colab": {}
      },
      "cell_type": "code",
      "source": [
        "trainMatureF[\"TYPE_CODE\"] = 0\n",
        "testMatureF[\"TYPE_CODE\"] = 0\n",
        "trainFelledF[\"TYPE_CODE\"] = 1\n",
        "testFelledF[\"TYPE_CODE\"] = 1"
      ],
      "execution_count": 0,
      "outputs": []
    },
    {
      "metadata": {
        "id": "UMOv_RyP-8Hf",
        "colab_type": "code",
        "colab": {}
      },
      "cell_type": "code",
      "source": [
        "train = pd.concat([trainMatureF, trainFelledF])\n",
        "test = pd.concat([testMatureF, testFelledF])"
      ],
      "execution_count": 0,
      "outputs": []
    },
    {
      "metadata": {
        "id": "lgEaQ5zpXAEI",
        "colab_type": "text"
      },
      "cell_type": "markdown",
      "source": [
        "Drop the labels from trainX, vector as trainy"
      ]
    },
    {
      "metadata": {
        "id": "Ino7_tsXV79T",
        "colab_type": "code",
        "outputId": "b5c9ff3d-0a51-436f-a827-a0c38fe6c88f",
        "colab": {
          "base_uri": "https://localhost:8080/",
          "height": 206
        }
      },
      "cell_type": "code",
      "source": [
        "trainX = train.drop(\"TYPE_CODE\", axis=1)\n",
        "trainy = train[\"TYPE_CODE\"].copy()\n",
        "\n",
        "testX = test.drop(\"TYPE_CODE\", axis = 1)\n",
        "testy = test[\"TYPE_CODE\"].copy()\n",
        "trainX.head()"
      ],
      "execution_count": 0,
      "outputs": [
        {
          "output_type": "execute_result",
          "data": {
            "text/html": [
              "<div>\n",
              "<style scoped>\n",
              "    .dataframe tbody tr th:only-of-type {\n",
              "        vertical-align: middle;\n",
              "    }\n",
              "\n",
              "    .dataframe tbody tr th {\n",
              "        vertical-align: top;\n",
              "    }\n",
              "\n",
              "    .dataframe thead th {\n",
              "        text-align: right;\n",
              "    }\n",
              "</style>\n",
              "<table border=\"1\" class=\"dataframe\">\n",
              "  <thead>\n",
              "    <tr style=\"text-align: right;\">\n",
              "      <th></th>\n",
              "      <th>0</th>\n",
              "      <th>1</th>\n",
              "      <th>2</th>\n",
              "      <th>3</th>\n",
              "      <th>4</th>\n",
              "      <th>5</th>\n",
              "      <th>6</th>\n",
              "      <th>7</th>\n",
              "      <th>8</th>\n",
              "      <th>9</th>\n",
              "      <th>10</th>\n",
              "      <th>11</th>\n",
              "    </tr>\n",
              "  </thead>\n",
              "  <tbody>\n",
              "    <tr>\n",
              "      <th>107684</th>\n",
              "      <td>-12.623568</td>\n",
              "      <td>-16.506538</td>\n",
              "      <td>-7.986333</td>\n",
              "      <td>-12.791503</td>\n",
              "      <td>-15.158631</td>\n",
              "      <td>-17.788149</td>\n",
              "      <td>-11.580701</td>\n",
              "      <td>-14.709453</td>\n",
              "      <td>-6.442196</td>\n",
              "      <td>-10.756843</td>\n",
              "      <td>-10.043466</td>\n",
              "      <td>-15.415751</td>\n",
              "    </tr>\n",
              "    <tr>\n",
              "      <th>39490</th>\n",
              "      <td>-11.869100</td>\n",
              "      <td>-15.138095</td>\n",
              "      <td>-10.402539</td>\n",
              "      <td>-14.027419</td>\n",
              "      <td>-14.686519</td>\n",
              "      <td>-20.519230</td>\n",
              "      <td>-11.758499</td>\n",
              "      <td>-15.901530</td>\n",
              "      <td>-9.189785</td>\n",
              "      <td>-12.334918</td>\n",
              "      <td>-9.452192</td>\n",
              "      <td>-13.386502</td>\n",
              "    </tr>\n",
              "    <tr>\n",
              "      <th>1315625</th>\n",
              "      <td>-7.501197</td>\n",
              "      <td>-12.268439</td>\n",
              "      <td>-13.331161</td>\n",
              "      <td>-18.217167</td>\n",
              "      <td>-9.167229</td>\n",
              "      <td>-15.073679</td>\n",
              "      <td>-18.463055</td>\n",
              "      <td>-19.918652</td>\n",
              "      <td>-12.457465</td>\n",
              "      <td>-16.182779</td>\n",
              "      <td>-6.290135</td>\n",
              "      <td>-10.709098</td>\n",
              "    </tr>\n",
              "    <tr>\n",
              "      <th>2042749</th>\n",
              "      <td>-8.832651</td>\n",
              "      <td>-14.123918</td>\n",
              "      <td>-8.330820</td>\n",
              "      <td>-12.542852</td>\n",
              "      <td>-13.802910</td>\n",
              "      <td>-17.174698</td>\n",
              "      <td>-12.171342</td>\n",
              "      <td>-15.053130</td>\n",
              "      <td>-6.904105</td>\n",
              "      <td>-10.974566</td>\n",
              "      <td>-6.733414</td>\n",
              "      <td>-10.126642</td>\n",
              "    </tr>\n",
              "    <tr>\n",
              "      <th>1965243</th>\n",
              "      <td>-13.525480</td>\n",
              "      <td>-16.382107</td>\n",
              "      <td>-11.822089</td>\n",
              "      <td>-15.134338</td>\n",
              "      <td>-15.288528</td>\n",
              "      <td>-19.450205</td>\n",
              "      <td>-13.360148</td>\n",
              "      <td>-19.576237</td>\n",
              "      <td>-8.310637</td>\n",
              "      <td>-13.443035</td>\n",
              "      <td>-11.468226</td>\n",
              "      <td>-14.763532</td>\n",
              "    </tr>\n",
              "  </tbody>\n",
              "</table>\n",
              "</div>"
            ],
            "text/plain": [
              "                0          1          2          3          4          5   \\\n",
              "107684  -12.623568 -16.506538  -7.986333 -12.791503 -15.158631 -17.788149   \n",
              "39490   -11.869100 -15.138095 -10.402539 -14.027419 -14.686519 -20.519230   \n",
              "1315625  -7.501197 -12.268439 -13.331161 -18.217167  -9.167229 -15.073679   \n",
              "2042749  -8.832651 -14.123918  -8.330820 -12.542852 -13.802910 -17.174698   \n",
              "1965243 -13.525480 -16.382107 -11.822089 -15.134338 -15.288528 -19.450205   \n",
              "\n",
              "                6          7          8          9          10         11  \n",
              "107684  -11.580701 -14.709453  -6.442196 -10.756843 -10.043466 -15.415751  \n",
              "39490   -11.758499 -15.901530  -9.189785 -12.334918  -9.452192 -13.386502  \n",
              "1315625 -18.463055 -19.918652 -12.457465 -16.182779  -6.290135 -10.709098  \n",
              "2042749 -12.171342 -15.053130  -6.904105 -10.974566  -6.733414 -10.126642  \n",
              "1965243 -13.360148 -19.576237  -8.310637 -13.443035 -11.468226 -14.763532  "
            ]
          },
          "metadata": {
            "tags": []
          },
          "execution_count": 128
        }
      ]
    },
    {
      "metadata": {
        "id": "KGjEMGhJXOm6",
        "colab_type": "text"
      },
      "cell_type": "markdown",
      "source": [
        "Scale the pixel values using standard scaler"
      ]
    },
    {
      "metadata": {
        "id": "84OSS9iwaGpV",
        "colab_type": "code",
        "colab": {}
      },
      "cell_type": "code",
      "source": [
        "from sklearn.preprocessing import StandardScaler\n",
        "sc = StandardScaler()\n",
        "trainX = sc.fit_transform(trainX)\n",
        "testX = sc.transform(testX)"
      ],
      "execution_count": 0,
      "outputs": []
    },
    {
      "metadata": {
        "id": "i97bUx1HgUHI",
        "colab_type": "code",
        "outputId": "c1271fed-6be5-466a-c5e3-f83975e3d114",
        "colab": {
          "base_uri": "https://localhost:8080/",
          "height": 72
        }
      },
      "cell_type": "code",
      "source": [
        "trainX[10000]"
      ],
      "execution_count": 0,
      "outputs": [
        {
          "output_type": "execute_result",
          "data": {
            "text/plain": [
              "array([-0.92370901, -0.94297347,  0.68282292,  0.85493831, -0.69318545,\n",
              "       -0.29614022,  0.63581854,  1.65680049,  0.31973843,  0.20941968,\n",
              "       -1.19729799, -1.3915716 ])"
            ]
          },
          "metadata": {
            "tags": []
          },
          "execution_count": 130
        }
      ]
    },
    {
      "metadata": {
        "id": "Jm5MIL9MkLKZ",
        "colab_type": "code",
        "outputId": "70f91250-3a4e-4dd3-e17d-cf88b05b1eaf",
        "colab": {
          "base_uri": "https://localhost:8080/",
          "height": 384
        }
      },
      "cell_type": "code",
      "source": [
        "from sklearn.decomposition import PCA\n",
        "pca = PCA(n_components = 0.95)\n",
        "print(trainX[0])\n",
        "X_reduced = pca.fit_transform(trainX)\n",
        "X_reduced[0]\n",
        "pca.components_"
      ],
      "execution_count": 0,
      "outputs": [
        {
          "output_type": "stream",
          "text": [
            "[-1.26500627 -0.60472627  0.76034599  1.25285703 -1.16524     0.10355055\n",
            "  0.24411584  1.51149797  0.36897553  1.02250587 -1.11493177 -1.20633512]\n"
          ],
          "name": "stdout"
        },
        {
          "output_type": "execute_result",
          "data": {
            "text/plain": [
              "array([[-0.31729562, -0.29873068,  0.29639908,  0.2727176 , -0.30061519,\n",
              "        -0.27057017,  0.28544989,  0.25099572,  0.28742248,  0.27039135,\n",
              "        -0.31127401, -0.29526818],\n",
              "       [-0.26916083, -0.30089764, -0.29039459, -0.3266415 , -0.26696479,\n",
              "        -0.28299866, -0.28495523, -0.29871142, -0.27595637, -0.3168983 ,\n",
              "        -0.25755695, -0.28511558],\n",
              "       [ 0.23823055, -0.183894  ,  0.33781409, -0.30292309,  0.19841923,\n",
              "        -0.31707232,  0.27949968, -0.47179872,  0.39244106, -0.17445748,\n",
              "         0.25987017, -0.10464887],\n",
              "       [ 0.10583079,  0.07629576, -0.10403049,  0.13535671, -0.29730721,\n",
              "        -0.66671642, -0.2520776 , -0.03058927, -0.03565892,  0.31392477,\n",
              "         0.30621144,  0.40356916],\n",
              "       [-0.2857122 ,  0.33172902,  0.15181026, -0.1600368 , -0.50183644,\n",
              "         0.22951319,  0.21522501, -0.33957551,  0.16160832, -0.10278042,\n",
              "        -0.19703968,  0.4669166 ],\n",
              "       [ 0.05051616,  0.05426704,  0.03240995, -0.10038627, -0.13320793,\n",
              "        -0.25198664,  0.35262646,  0.56106475, -0.15472857, -0.6328133 ,\n",
              "         0.13346039,  0.14418539]])"
            ]
          },
          "metadata": {
            "tags": []
          },
          "execution_count": 131
        }
      ]
    },
    {
      "metadata": {
        "id": "3edYXc6cXyRU",
        "colab_type": "text"
      },
      "cell_type": "markdown",
      "source": [
        "Random Forest"
      ]
    },
    {
      "metadata": {
        "id": "8I0sSqYJXX17",
        "colab_type": "code",
        "outputId": "a715dedf-3a92-4625-ccdb-03ea93a56c97",
        "colab": {
          "base_uri": "https://localhost:8080/",
          "height": 90
        }
      },
      "cell_type": "code",
      "source": [
        "from sklearn.ensemble import RandomForestClassifier\n",
        "rf = RandomForestClassifier(n_estimators = 10, random_state = 99)\n",
        "rf.fit(trainX, trainy)\n",
        "pred_y = rf.predict(testX)\n",
        "from sklearn.metrics import confusion_matrix, accuracy_score\n",
        "cm = confusion_matrix(testy, pred_y)\n",
        "acc = accuracy_score(testy, pred_y)\n",
        "print (\"RF:\\n{0}\\n{1}%\".format(cm,round(acc*100, 3)))"
      ],
      "execution_count": 0,
      "outputs": [
        {
          "output_type": "stream",
          "text": [
            "RF:\n",
            "[[31946  5598]\n",
            " [11169 26375]]\n",
            "77.67%\n"
          ],
          "name": "stdout"
        }
      ]
    },
    {
      "metadata": {
        "id": "eGx6V9iBYFLl",
        "colab_type": "text"
      },
      "cell_type": "markdown",
      "source": [
        "KNN"
      ]
    },
    {
      "metadata": {
        "id": "HYIIuNVDfCVg",
        "colab_type": "code",
        "colab": {}
      },
      "cell_type": "code",
      "source": [
        "from sklearn.neighbors import KNeighborsClassifier\n",
        "knn = KNeighborsClassifier(n_neighbors = 2, metric = 'minkowski', p = 2)\n",
        "knn.fit(trainX, trainy)\n",
        "pred_y = knn.predict(testX)\n",
        "cm = confusion_matrix(testy, pred_y)\n",
        "acc = accuracy_score(testy, pred_y)\n",
        "print (\"KNN:\\n{0}\\n{1}%\".format(cm,round(acc*100, 3)))"
      ],
      "execution_count": 0,
      "outputs": []
    },
    {
      "metadata": {
        "id": "x5gBClyVZ46c",
        "colab_type": "text"
      },
      "cell_type": "markdown",
      "source": [
        "Logistic regression"
      ]
    },
    {
      "metadata": {
        "id": "rd1vQOGVgOnC",
        "colab_type": "code",
        "outputId": "706a6388-e014-4581-f26a-824768b2691e",
        "colab": {
          "base_uri": "https://localhost:8080/",
          "height": 147
        }
      },
      "cell_type": "code",
      "source": [
        "from sklearn.linear_model import LogisticRegression\n",
        "lgr = LogisticRegression(random_state = 0)\n",
        "lgr.fit(trainX, trainy)\n",
        "pred_y = lgr.predict(testX)\n",
        "cm = confusion_matrix(testy, pred_y)\n",
        "acc = accuracy_score(testy, pred_y)\n",
        "print (\"logistic regression:\\n{0}\\n{1}%\".format(cm,round(acc*100, 3)))"
      ],
      "execution_count": 0,
      "outputs": [
        {
          "output_type": "stream",
          "text": [
            "/usr/local/lib/python3.6/dist-packages/sklearn/linear_model/logistic.py:433: FutureWarning: Default solver will be changed to 'lbfgs' in 0.22. Specify a solver to silence this warning.\n",
            "  FutureWarning)\n"
          ],
          "name": "stderr"
        },
        {
          "output_type": "stream",
          "text": [
            "logistic regression:\n",
            "[[32090  5454]\n",
            " [ 9929 27615]]\n",
            "79.513%\n"
          ],
          "name": "stdout"
        }
      ]
    },
    {
      "metadata": {
        "id": "TN1x44zCa9R6",
        "colab_type": "code",
        "colab": {}
      },
      "cell_type": "code",
      "source": [
        "pred_y = lgr.predict_proba(testX).astype('float32')\n",
        "pred_y[1]"
      ],
      "execution_count": 0,
      "outputs": []
    },
    {
      "metadata": {
        "id": "Z3SFYmZSietK",
        "colab_type": "text"
      },
      "cell_type": "markdown",
      "source": [
        "XGBoost"
      ]
    },
    {
      "metadata": {
        "id": "XuSIocCOPPSx",
        "colab_type": "code",
        "colab": {}
      },
      "cell_type": "code",
      "source": [
        "from xgboost import XGBClassifier\n",
        "xg = XGBClassifier()\n",
        "xg.fit(trainX, trainy)\n",
        "pred_y = xg.predict(testX)\n",
        "cm = confusion_matrix(testy, pred_y)\n",
        "acc = accuracy_score(testy, pred_y)\n",
        "print (\"XGBoost:\\n{0}\\n{1}%\".format(cm,round(acc*100, 3)))"
      ],
      "execution_count": 0,
      "outputs": []
    },
    {
      "metadata": {
        "id": "EGTZ7RNdzqXv",
        "colab_type": "text"
      },
      "cell_type": "markdown",
      "source": [
        "Ensemble classifier"
      ]
    },
    {
      "metadata": {
        "id": "ii5xo5Usztc9",
        "colab_type": "code",
        "colab": {}
      },
      "cell_type": "code",
      "source": [
        "from sklearn.ensemble import VotingClassifier\n",
        "voting_clf = VotingClassifier(estimators=[('lr', lgr),('rf', rf),('knn',knn),('xg',xg)],voting='hard')\n",
        "voting_clf.fit(trainX, trainy)\n",
        "pred_y = voting_clf.predict(testX)\n",
        "cm = confusion_matrix(testy, pred_y)\n",
        "acc = accuracy_score(testy, pred_y)\n",
        "print (\"Ensemble:\\n{0}\\n{1}%\".format(cm,round(acc*100, 3)))"
      ],
      "execution_count": 0,
      "outputs": []
    },
    {
      "metadata": {
        "id": "ygUyafSWSqIf",
        "colab_type": "code",
        "colab": {}
      },
      "cell_type": "code",
      "source": [
        "breAK ME"
      ],
      "execution_count": 0,
      "outputs": []
    },
    {
      "metadata": {
        "id": "pQxLqt5QPL6V",
        "colab_type": "text"
      },
      "cell_type": "markdown",
      "source": [
        "##  Fit Classifiers to Image"
      ]
    },
    {
      "metadata": {
        "id": "KBFVCaJwJ88a",
        "colab_type": "code",
        "colab": {}
      },
      "cell_type": "code",
      "source": [
        "#Classified Output\n",
        "s1prof.update(count=1, nodata=None, dtype=np.int32)\n",
        "dst = rasterio.open(os.path.join(wd,'{}3month_outputClassLgr.tif'.format(region)), 'w', **s1prof)\n",
        "\n",
        "model = lgr #xg, rf, knn, lgr\n",
        "\n",
        "for block_index, window in s1.block_windows(1):\n",
        "    s1_block = s1.read(window=window, masked=True)\n",
        "    v = s1_block.shape\n",
        "    s1_block = np.nan_to_num(s1_block)\n",
        "    s1_block = s1_block.reshape(v[0], -1).T\n",
        "    s1_block = sc.transform(s1_block)\n",
        "    result_block = model.predict(s1_block).reshape(1,v[1],v[2]).astype(np.int32)\n",
        "    dst.write(result_block, window=window)\n",
        "dst.close()"
      ],
      "execution_count": 0,
      "outputs": []
    },
    {
      "metadata": {
        "id": "0ZLIh-f0PxSu",
        "colab_type": "code",
        "colab": {}
      },
      "cell_type": "code",
      "source": [
        "r = s1.read()"
      ],
      "execution_count": 0,
      "outputs": []
    },
    {
      "metadata": {
        "id": "ts-BsbYbPufp",
        "colab_type": "code",
        "colab": {}
      },
      "cell_type": "code",
      "source": [
        "#Probability Output\n",
        "s1prof.update(count=1, nodata=None, dtype=np.float32)\n",
        "dst = rasterio.open(os.path.join(wd,'{}3month_outputProbLgr2.tif'.format(region)), 'w', **s1prof)\n",
        "\n",
        "model = lgr #xg, rf, knn, lgr\n",
        "\n",
        "for block_index, window in s1.block_windows(1):\n",
        "    s1_block = s1.read(window=window, masked=True)\n",
        "    v= s1_block.shape\n",
        "    s1_block = s1_block.reshape(v[0], -1).T\n",
        "    s1_block = np.nan_to_num(s1_block)\n",
        "    s1_block = sc.transform(s1_block)\n",
        "    result_block = model.predict_proba(s1_block).astype('float32')\n",
        "    result_block = result_block[:,1:]\n",
        "    result_block = result_block.reshape(1,v[1],v[2])\n",
        "    dst.write(result_block, window=window)\n",
        "dst.close()\n"
      ],
      "execution_count": 0,
      "outputs": []
    },
    {
      "metadata": {
        "id": "KBUJEgAUi-fb",
        "colab_type": "text"
      },
      "cell_type": "markdown",
      "source": [
        ""
      ]
    },
    {
      "metadata": {
        "id": "rhQKvEnoJpe1",
        "colab_type": "code",
        "colab": {}
      },
      "cell_type": "code",
      "source": [
        "from rasterio.plot import show\n",
        "\n",
        "prob = rasterio.open(os.path.join(wd,'{}3month_outputProb.tif'.format(region))).read()\n",
        "\n",
        "show(prob)\n",
        "\n",
        "#prob.shape"
      ],
      "execution_count": 0,
      "outputs": []
    },
    {
      "metadata": {
        "id": "PDGPEG18aWX3",
        "colab_type": "code",
        "colab": {}
      },
      "cell_type": "code",
      "source": [
        "import skimage.segmentation as seg\n",
        "\n",
        "watershed = seg.watershed(prob, markers=, connectivity=1, offset=None, mask=None, compactness=5, watershed_line=False)\n",
        "\n"
      ],
      "execution_count": 0,
      "outputs": []
    },
    {
      "metadata": {
        "id": "ZsHRBrRzmSJK",
        "colab_type": "code",
        "colab": {}
      },
      "cell_type": "code",
      "source": [
        "watershed.shape\n",
        "watershed[:,1,1]"
      ],
      "execution_count": 0,
      "outputs": []
    }
  ]
}